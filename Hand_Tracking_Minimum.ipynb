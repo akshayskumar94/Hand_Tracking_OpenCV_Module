{
 "cells": [
  {
   "cell_type": "code",
   "execution_count": 1,
   "metadata": {},
   "outputs": [],
   "source": [
    "import cv2\n",
    "import mediapipe as mp\n",
    "import time"
   ]
  },
  {
   "cell_type": "code",
   "execution_count": 2,
   "metadata": {},
   "outputs": [],
   "source": [
    "#!pip install mediapipe opencv-python"
   ]
  },
  {
   "cell_type": "code",
   "execution_count": null,
   "metadata": {},
   "outputs": [],
   "source": [
    "cap =cv2.VideoCapture(0)\n",
    "pTime=0\n",
    "cTime=0\n",
    "mpHands=mp.solutions.hands\n",
    "hands=mpHands.Hands()\n",
    "mpDraw=mp.solutions.drawing_utils\n",
    "while True:\n",
    "\n",
    "    success, img = cap.read()\n",
    "    imgRGB=cv2.cvtColor(img,cv2.COLOR_BGR2RGB)\n",
    "    results=hands.process(imgRGB)\n",
    "    if results.multi_hand_landmarks:\n",
    "        for handLms in results.multi_hand_landmarks:\n",
    "            for id,lm in enumerate(handLms.landmark):\n",
    "                h,w,c=img.shape\n",
    "                cx,cy=int(lm.x*w),int(lm.y*h)\n",
    "                print(id,cx,cy)\n",
    "                #if id==4:\n",
    "                cv2.circle(img, (cx,cy),10,(255,0,255),cv2.FILLED)\n",
    "                mpDraw.draw_landmarks(img,handLms,mpHands.HAND_CONNECTIONS)\n",
    "    cTime=time.time()\n",
    "    fps=1/(cTime-pTime)\n",
    "    pTime=cTime\n",
    "    cv2.putText(img,str(int(fps)),(18,30),cv2.FONT_HERSHEY_COMPLEX, 1, (255,0,255),1) #Convert flat to int to str, position, font, scale,color,thickness\n",
    "    cv2.imshow(\"image\",img)\n",
    "    cv2.waitKey(1)\n"
   ]
  },
  {
   "cell_type": "code",
   "execution_count": null,
   "metadata": {},
   "outputs": [],
   "source": []
  }
 ],
 "metadata": {
  "kernelspec": {
   "display_name": "Python 3",
   "language": "python",
   "name": "python3"
  },
  "language_info": {
   "codemirror_mode": {
    "name": "ipython",
    "version": 3
   },
   "file_extension": ".py",
   "mimetype": "text/x-python",
   "name": "python",
   "nbconvert_exporter": "python",
   "pygments_lexer": "ipython3",
   "version": "3.8.5"
  },
  "metadata": {
   "interpreter": {
    "hash": "8ecc3cc338dc0b47d594c08347cb278344cdc07648f8ee1ffe87ceb5a6248bea"
   }
  }
 },
 "nbformat": 4,
 "nbformat_minor": 2
}
